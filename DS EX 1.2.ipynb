{
 "cells": [
  {
   "cell_type": "code",
   "execution_count": 1,
   "id": "e69ec85b-7a24-46dd-9fa9-07ab4f6455bf",
   "metadata": {},
   "outputs": [],
   "source": [
    "import pandas as pd"
   ]
  },
  {
   "cell_type": "code",
   "execution_count": null,
   "id": "ac19d392-53d5-446c-848c-d7a7e966a1b4",
   "metadata": {},
   "outputs": [],
   "source": [
    "#Create a DataFrame sales_data with columns &#39;Month&#39;, &#39;Product&#39;, &#39;Sales&#39;, perform the\n",
    "#following operations:\n",
    "#&#39;Month&#39;: [&#39;Jan&#39;, &#39;Feb&#39;, &#39;Mar&#39;, &#39;Jan&#39;, &#39;Feb&#39;, &#39;Mar&#39;]\n",
    "#&#39;Product&#39;: [&#39;A&#39;, &#39;A&#39;, &#39;A&#39;, &#39;B&#39;, &#39;B&#39;, &#39;B&#39;]\n",
    "#&#39;Sales&#39;: [150, 200, 250, 300, 400, 500]"
   ]
  },
  {
   "cell_type": "code",
   "execution_count": 3,
   "id": "cd75ab39-a033-4e94-afee-0cf748aa3e33",
   "metadata": {},
   "outputs": [],
   "source": [
    "sales_data=pd.DataFrame({'Month':['Jan','Feb','Mar','Jan','Feb','Mar'],'Product':['A','A','A','B','B','B'],'Sales':[150,200,250,300,400,500]})            "
   ]
  },
  {
   "cell_type": "code",
   "execution_count": null,
   "id": "de22e2c5-89d1-4ac8-ae4e-9c18c2b32599",
   "metadata": {},
   "outputs": [],
   "source": [
    "#Group the data by &#39;Product&#39; and calculate the total &#39;Sales&#39; for each product."
   ]
  },
  {
   "cell_type": "code",
   "execution_count": 27,
   "id": "b133640a-f28f-4f6a-8448-d9ad9159dd38",
   "metadata": {},
   "outputs": [
    {
     "data": {
      "text/html": [
       "<div>\n",
       "<style scoped>\n",
       "    .dataframe tbody tr th:only-of-type {\n",
       "        vertical-align: middle;\n",
       "    }\n",
       "\n",
       "    .dataframe tbody tr th {\n",
       "        vertical-align: top;\n",
       "    }\n",
       "\n",
       "    .dataframe thead th {\n",
       "        text-align: right;\n",
       "    }\n",
       "</style>\n",
       "<table border=\"1\" class=\"dataframe\">\n",
       "  <thead>\n",
       "    <tr style=\"text-align: right;\">\n",
       "      <th></th>\n",
       "      <th>Product</th>\n",
       "      <th>Sales</th>\n",
       "    </tr>\n",
       "  </thead>\n",
       "  <tbody>\n",
       "    <tr>\n",
       "      <th>0</th>\n",
       "      <td>A</td>\n",
       "      <td>600</td>\n",
       "    </tr>\n",
       "    <tr>\n",
       "      <th>1</th>\n",
       "      <td>B</td>\n",
       "      <td>1200</td>\n",
       "    </tr>\n",
       "  </tbody>\n",
       "</table>\n",
       "</div>"
      ],
      "text/plain": [
       "  Product  Sales\n",
       "0       A    600\n",
       "1       B   1200"
      ]
     },
     "execution_count": 27,
     "metadata": {},
     "output_type": "execute_result"
    }
   ],
   "source": [
    "df1=sales_data.groupby('Product')['Sales'].sum().reset_index()\n",
    "df1"
   ]
  },
  {
   "cell_type": "code",
   "execution_count": null,
   "id": "d7d1f76d-7ba0-4af8-82b5-b4c16eee15a5",
   "metadata": {},
   "outputs": [],
   "source": [
    "#Find the month with the highest sales for each product."
   ]
  },
  {
   "cell_type": "code",
   "execution_count": 51,
   "id": "9b43a40c-a4a3-4fe4-ae9e-e1308bd4afd2",
   "metadata": {},
   "outputs": [
    {
     "data": {
      "text/html": [
       "<div>\n",
       "<style scoped>\n",
       "    .dataframe tbody tr th:only-of-type {\n",
       "        vertical-align: middle;\n",
       "    }\n",
       "\n",
       "    .dataframe tbody tr th {\n",
       "        vertical-align: top;\n",
       "    }\n",
       "\n",
       "    .dataframe thead th {\n",
       "        text-align: right;\n",
       "    }\n",
       "</style>\n",
       "<table border=\"1\" class=\"dataframe\">\n",
       "  <thead>\n",
       "    <tr style=\"text-align: right;\">\n",
       "      <th></th>\n",
       "      <th>Month</th>\n",
       "      <th>Product</th>\n",
       "      <th>Sales</th>\n",
       "      <th>percentange</th>\n",
       "    </tr>\n",
       "  </thead>\n",
       "  <tbody>\n",
       "    <tr>\n",
       "      <th>2</th>\n",
       "      <td>Mar</td>\n",
       "      <td>A</td>\n",
       "      <td>250</td>\n",
       "      <td>13.888889</td>\n",
       "    </tr>\n",
       "    <tr>\n",
       "      <th>5</th>\n",
       "      <td>Mar</td>\n",
       "      <td>B</td>\n",
       "      <td>500</td>\n",
       "      <td>27.777778</td>\n",
       "    </tr>\n",
       "  </tbody>\n",
       "</table>\n",
       "</div>"
      ],
      "text/plain": [
       "  Month Product  Sales  percentange\n",
       "2   Mar       A    250    13.888889\n",
       "5   Mar       B    500    27.777778"
      ]
     },
     "execution_count": 51,
     "metadata": {},
     "output_type": "execute_result"
    }
   ],
   "source": [
    "res=sales_data.loc[sales_data.groupby('Product')['Month'].idxmax()]\n",
    "res"
   ]
  },
  {
   "cell_type": "code",
   "execution_count": 45,
   "id": "75280723-b7a6-47d2-b6ae-e8e63f2f8b87",
   "metadata": {},
   "outputs": [],
   "source": [
    "#Add a new column &#39;Sales_Percentage&#39; which represents the percentage\n",
    "#contribution of each sale to the total sales of that product."
   ]
  },
  {
   "cell_type": "code",
   "execution_count": 19,
   "id": "53154d0a-91ff-4cd1-89aa-901255f9c617",
   "metadata": {},
   "outputs": [
    {
     "data": {
      "text/html": [
       "<div>\n",
       "<style scoped>\n",
       "    .dataframe tbody tr th:only-of-type {\n",
       "        vertical-align: middle;\n",
       "    }\n",
       "\n",
       "    .dataframe tbody tr th {\n",
       "        vertical-align: top;\n",
       "    }\n",
       "\n",
       "    .dataframe thead th {\n",
       "        text-align: right;\n",
       "    }\n",
       "</style>\n",
       "<table border=\"1\" class=\"dataframe\">\n",
       "  <thead>\n",
       "    <tr style=\"text-align: right;\">\n",
       "      <th></th>\n",
       "      <th>Month</th>\n",
       "      <th>Product</th>\n",
       "      <th>Sales</th>\n",
       "      <th>percentange</th>\n",
       "    </tr>\n",
       "  </thead>\n",
       "  <tbody>\n",
       "    <tr>\n",
       "      <th>0</th>\n",
       "      <td>Jan</td>\n",
       "      <td>A</td>\n",
       "      <td>150</td>\n",
       "      <td>8.333333</td>\n",
       "    </tr>\n",
       "    <tr>\n",
       "      <th>1</th>\n",
       "      <td>Feb</td>\n",
       "      <td>A</td>\n",
       "      <td>200</td>\n",
       "      <td>11.111111</td>\n",
       "    </tr>\n",
       "    <tr>\n",
       "      <th>2</th>\n",
       "      <td>Mar</td>\n",
       "      <td>A</td>\n",
       "      <td>250</td>\n",
       "      <td>13.888889</td>\n",
       "    </tr>\n",
       "    <tr>\n",
       "      <th>3</th>\n",
       "      <td>Jan</td>\n",
       "      <td>B</td>\n",
       "      <td>300</td>\n",
       "      <td>16.666667</td>\n",
       "    </tr>\n",
       "    <tr>\n",
       "      <th>4</th>\n",
       "      <td>Feb</td>\n",
       "      <td>B</td>\n",
       "      <td>400</td>\n",
       "      <td>22.222222</td>\n",
       "    </tr>\n",
       "    <tr>\n",
       "      <th>5</th>\n",
       "      <td>Mar</td>\n",
       "      <td>B</td>\n",
       "      <td>500</td>\n",
       "      <td>27.777778</td>\n",
       "    </tr>\n",
       "  </tbody>\n",
       "</table>\n",
       "</div>"
      ],
      "text/plain": [
       "  Month Product  Sales  percentange\n",
       "0   Jan       A    150     8.333333\n",
       "1   Feb       A    200    11.111111\n",
       "2   Mar       A    250    13.888889\n",
       "3   Jan       B    300    16.666667\n",
       "4   Feb       B    400    22.222222\n",
       "5   Mar       B    500    27.777778"
      ]
     },
     "execution_count": 19,
     "metadata": {},
     "output_type": "execute_result"
    }
   ],
   "source": [
    "sales_data['percentange']=(sales_data['Sales']/sales_data['Sales'].sum())*100\n",
    "sales_data"
   ]
  },
  {
   "cell_type": "code",
   "execution_count": null,
   "id": "4082c702-b636-4694-809f-b704af565023",
   "metadata": {},
   "outputs": [],
   "source": [
    "#Handling Missing Data:\n",
    "#o Create a DataFrame employee_data with the following data:\n",
    "#Name: [&#39;John&#39;, &#39;Doe&#39;, &#39;Jane&#39;, &#39;Anna&#39;, &#39;Smith&#39;]\n",
    "#Department: [&#39;HR&#39;, &#39;Finance&#39;, None, &#39;IT&#39;, &#39;HR&#39;]\n",
    "#Salary: [50000, 60000, 55000, None, 58000]"
   ]
  },
  {
   "cell_type": "code",
   "execution_count": 21,
   "id": "03f3e9db-0287-41eb-a832-b94fb2545e42",
   "metadata": {},
   "outputs": [],
   "source": [
    "employee_data=pd.DataFrame({'Name':['John','Doe','Jane','Anna','Smith'],'Department':['HR','Finance',None,'IT','HR'],'Salary':[50000,60000,55000,None,58000]})"
   ]
  },
  {
   "cell_type": "code",
   "execution_count": null,
   "id": "885b1321-a0a0-4854-9d22-52c305ec4c14",
   "metadata": {},
   "outputs": [],
   "source": [
    "#Identify and count the number of missing values in each column."
   ]
  },
  {
   "cell_type": "code",
   "execution_count": 23,
   "id": "bfb255c7-288f-46b2-8ec1-17d4cec71e58",
   "metadata": {},
   "outputs": [
    {
     "data": {
      "text/plain": [
       "Name          0\n",
       "Department    1\n",
       "Salary        1\n",
       "dtype: int64"
      ]
     },
     "execution_count": 23,
     "metadata": {},
     "output_type": "execute_result"
    }
   ],
   "source": [
    "employee_data.isnull().sum()"
   ]
  },
  {
   "cell_type": "code",
   "execution_count": null,
   "id": "1138b9ac-d4e8-4763-b494-a265c88cab0e",
   "metadata": {},
   "outputs": [],
   "source": [
    "#Fill the missing values in the &#39;Department&#39; column with the mode of the column."
   ]
  },
  {
   "cell_type": "code",
   "execution_count": 77,
   "id": "554c4af6-0df1-486a-a56b-1a60e3e0297b",
   "metadata": {},
   "outputs": [
    {
     "data": {
      "text/html": [
       "<div>\n",
       "<style scoped>\n",
       "    .dataframe tbody tr th:only-of-type {\n",
       "        vertical-align: middle;\n",
       "    }\n",
       "\n",
       "    .dataframe tbody tr th {\n",
       "        vertical-align: top;\n",
       "    }\n",
       "\n",
       "    .dataframe thead th {\n",
       "        text-align: right;\n",
       "    }\n",
       "</style>\n",
       "<table border=\"1\" class=\"dataframe\">\n",
       "  <thead>\n",
       "    <tr style=\"text-align: right;\">\n",
       "      <th></th>\n",
       "      <th>Name</th>\n",
       "      <th>Department</th>\n",
       "      <th>Salary</th>\n",
       "    </tr>\n",
       "  </thead>\n",
       "  <tbody>\n",
       "    <tr>\n",
       "      <th>0</th>\n",
       "      <td>John</td>\n",
       "      <td>HR</td>\n",
       "      <td>50000.0</td>\n",
       "    </tr>\n",
       "    <tr>\n",
       "      <th>1</th>\n",
       "      <td>Doe</td>\n",
       "      <td>Finance</td>\n",
       "      <td>60000.0</td>\n",
       "    </tr>\n",
       "    <tr>\n",
       "      <th>2</th>\n",
       "      <td>Jane</td>\n",
       "      <td>HR</td>\n",
       "      <td>55000.0</td>\n",
       "    </tr>\n",
       "    <tr>\n",
       "      <th>3</th>\n",
       "      <td>Anna</td>\n",
       "      <td>IT</td>\n",
       "      <td>55750.0</td>\n",
       "    </tr>\n",
       "    <tr>\n",
       "      <th>4</th>\n",
       "      <td>Smith</td>\n",
       "      <td>HR</td>\n",
       "      <td>58000.0</td>\n",
       "    </tr>\n",
       "  </tbody>\n",
       "</table>\n",
       "</div>"
      ],
      "text/plain": [
       "    Name Department   Salary\n",
       "0   John         HR  50000.0\n",
       "1    Doe    Finance  60000.0\n",
       "2   Jane         HR  55000.0\n",
       "3   Anna         IT  55750.0\n",
       "4  Smith         HR  58000.0"
      ]
     },
     "execution_count": 77,
     "metadata": {},
     "output_type": "execute_result"
    }
   ],
   "source": [
    "employee_data['Department']=employee_data['Department'].fillna(employee_data['Department'].mode()[0])\n",
    "employee_data"
   ]
  },
  {
   "cell_type": "code",
   "execution_count": 73,
   "id": "d73b66b4-a472-4671-9b31-d0f68846cc4c",
   "metadata": {},
   "outputs": [],
   "source": [
    "#Fill the missing values in the &#39;Salary&#39; column with the mean of the column."
   ]
  },
  {
   "cell_type": "code",
   "execution_count": 65,
   "id": "18ee987c-3397-4674-a77f-c8e1740d9830",
   "metadata": {},
   "outputs": [
    {
     "data": {
      "text/html": [
       "<div>\n",
       "<style scoped>\n",
       "    .dataframe tbody tr th:only-of-type {\n",
       "        vertical-align: middle;\n",
       "    }\n",
       "\n",
       "    .dataframe tbody tr th {\n",
       "        vertical-align: top;\n",
       "    }\n",
       "\n",
       "    .dataframe thead th {\n",
       "        text-align: right;\n",
       "    }\n",
       "</style>\n",
       "<table border=\"1\" class=\"dataframe\">\n",
       "  <thead>\n",
       "    <tr style=\"text-align: right;\">\n",
       "      <th></th>\n",
       "      <th>Name</th>\n",
       "      <th>Department</th>\n",
       "      <th>Salary</th>\n",
       "    </tr>\n",
       "  </thead>\n",
       "  <tbody>\n",
       "    <tr>\n",
       "      <th>0</th>\n",
       "      <td>John</td>\n",
       "      <td>HR</td>\n",
       "      <td>50000.0</td>\n",
       "    </tr>\n",
       "    <tr>\n",
       "      <th>1</th>\n",
       "      <td>Doe</td>\n",
       "      <td>Finance</td>\n",
       "      <td>60000.0</td>\n",
       "    </tr>\n",
       "    <tr>\n",
       "      <th>2</th>\n",
       "      <td>Jane</td>\n",
       "      <td>HR</td>\n",
       "      <td>55000.0</td>\n",
       "    </tr>\n",
       "    <tr>\n",
       "      <th>3</th>\n",
       "      <td>Anna</td>\n",
       "      <td>IT</td>\n",
       "      <td>55750.0</td>\n",
       "    </tr>\n",
       "    <tr>\n",
       "      <th>4</th>\n",
       "      <td>Smith</td>\n",
       "      <td>HR</td>\n",
       "      <td>58000.0</td>\n",
       "    </tr>\n",
       "  </tbody>\n",
       "</table>\n",
       "</div>"
      ],
      "text/plain": [
       "    Name Department   Salary\n",
       "0   John         HR  50000.0\n",
       "1    Doe    Finance  60000.0\n",
       "2   Jane         HR  55000.0\n",
       "3   Anna         IT  55750.0\n",
       "4  Smith         HR  58000.0"
      ]
     },
     "execution_count": 65,
     "metadata": {},
     "output_type": "execute_result"
    }
   ],
   "source": [
    "employee_data['Salary']=employee_data['Salary'].fillna(employee_data['Salary'].mean())\n",
    "employee_data"
   ]
  },
  {
   "cell_type": "code",
   "execution_count": null,
   "id": "4b930da3-2bd3-429e-bf1f-616930e596f4",
   "metadata": {},
   "outputs": [],
   "source": [
    "#Drop any rows that still contain missing values."
   ]
  },
  {
   "cell_type": "code",
   "execution_count": 67,
   "id": "3bde7424-ee25-4cc3-93f1-4904eaae7a39",
   "metadata": {},
   "outputs": [
    {
     "data": {
      "text/html": [
       "<div>\n",
       "<style scoped>\n",
       "    .dataframe tbody tr th:only-of-type {\n",
       "        vertical-align: middle;\n",
       "    }\n",
       "\n",
       "    .dataframe tbody tr th {\n",
       "        vertical-align: top;\n",
       "    }\n",
       "\n",
       "    .dataframe thead th {\n",
       "        text-align: right;\n",
       "    }\n",
       "</style>\n",
       "<table border=\"1\" class=\"dataframe\">\n",
       "  <thead>\n",
       "    <tr style=\"text-align: right;\">\n",
       "      <th></th>\n",
       "      <th>Name</th>\n",
       "      <th>Department</th>\n",
       "      <th>Salary</th>\n",
       "    </tr>\n",
       "  </thead>\n",
       "  <tbody>\n",
       "    <tr>\n",
       "      <th>0</th>\n",
       "      <td>John</td>\n",
       "      <td>HR</td>\n",
       "      <td>50000.0</td>\n",
       "    </tr>\n",
       "    <tr>\n",
       "      <th>1</th>\n",
       "      <td>Doe</td>\n",
       "      <td>Finance</td>\n",
       "      <td>60000.0</td>\n",
       "    </tr>\n",
       "    <tr>\n",
       "      <th>2</th>\n",
       "      <td>Jane</td>\n",
       "      <td>HR</td>\n",
       "      <td>55000.0</td>\n",
       "    </tr>\n",
       "    <tr>\n",
       "      <th>3</th>\n",
       "      <td>Anna</td>\n",
       "      <td>IT</td>\n",
       "      <td>55750.0</td>\n",
       "    </tr>\n",
       "    <tr>\n",
       "      <th>4</th>\n",
       "      <td>Smith</td>\n",
       "      <td>HR</td>\n",
       "      <td>58000.0</td>\n",
       "    </tr>\n",
       "  </tbody>\n",
       "</table>\n",
       "</div>"
      ],
      "text/plain": [
       "    Name Department   Salary\n",
       "0   John         HR  50000.0\n",
       "1    Doe    Finance  60000.0\n",
       "2   Jane         HR  55000.0\n",
       "3   Anna         IT  55750.0\n",
       "4  Smith         HR  58000.0"
      ]
     },
     "execution_count": 67,
     "metadata": {},
     "output_type": "execute_result"
    }
   ],
   "source": [
    "employee_data.dropna()\n",
    "employee_data"
   ]
  },
  {
   "cell_type": "code",
   "execution_count": null,
   "id": "51aa1d26-0611-451a-9c3b-75808c508b77",
   "metadata": {},
   "outputs": [],
   "source": [
    "#Create a Series temperature with the following data:\n",
    "#[23, 21, 20, 25, 27, 30, 28, 22, 24, 26]"
   ]
  },
  {
   "cell_type": "code",
   "execution_count": 79,
   "id": "00bc7cd8-8c19-430e-a27f-152ceb33eebe",
   "metadata": {},
   "outputs": [
    {
     "data": {
      "text/plain": [
       "0    23\n",
       "1    21\n",
       "2    20\n",
       "3    25\n",
       "4    27\n",
       "5    30\n",
       "6    28\n",
       "7    22\n",
       "8    24\n",
       "9    26\n",
       "dtype: int64"
      ]
     },
     "execution_count": 79,
     "metadata": {},
     "output_type": "execute_result"
    }
   ],
   "source": [
    "temp=pd.Series([23,21,20,25,27,30,28,22,24,26])\n",
    "temp"
   ]
  },
  {
   "cell_type": "code",
   "execution_count": null,
   "id": "33bc3b6f-236d-41c4-bef1-d34bd79cbc7f",
   "metadata": {},
   "outputs": [],
   "source": [
    "#Calculate the mean, median, and standard deviation of the series."
   ]
  },
  {
   "cell_type": "code",
   "execution_count": 83,
   "id": "e1110cf1-09e6-4f4a-8646-4976a12277b0",
   "metadata": {},
   "outputs": [
    {
     "data": {
      "text/plain": [
       "24.6"
      ]
     },
     "execution_count": 83,
     "metadata": {},
     "output_type": "execute_result"
    }
   ],
   "source": [
    "temp.mean()\n"
   ]
  },
  {
   "cell_type": "code",
   "execution_count": 85,
   "id": "4ee2f2b7-61fb-4ff6-b992-3066c18b9b4a",
   "metadata": {},
   "outputs": [
    {
     "data": {
      "text/plain": [
       "24.5"
      ]
     },
     "execution_count": 85,
     "metadata": {},
     "output_type": "execute_result"
    }
   ],
   "source": [
    "temp.median()"
   ]
  },
  {
   "cell_type": "code",
   "execution_count": 87,
   "id": "c9866054-6705-40c9-b7c1-f79628a86ca4",
   "metadata": {},
   "outputs": [
    {
     "data": {
      "text/plain": [
       "3.204163957519444"
      ]
     },
     "execution_count": 87,
     "metadata": {},
     "output_type": "execute_result"
    }
   ],
   "source": [
    "temp.std()"
   ]
  },
  {
   "cell_type": "code",
   "execution_count": null,
   "id": "72f034fd-a9dc-4cc5-a8b8-216ed196bc16",
   "metadata": {},
   "outputs": [],
   "source": [
    "#Find the index of the maximum and minimum values in the original temperature\n",
    "#series."
   ]
  },
  {
   "cell_type": "code",
   "execution_count": 89,
   "id": "d09ce4de-0517-4657-ae3a-7a155a59ac30",
   "metadata": {},
   "outputs": [
    {
     "data": {
      "text/plain": [
       "5"
      ]
     },
     "execution_count": 89,
     "metadata": {},
     "output_type": "execute_result"
    }
   ],
   "source": [
    "temp.idxmax()"
   ]
  },
  {
   "cell_type": "code",
   "execution_count": 91,
   "id": "973db7d5-7f6d-4dab-a18e-a654fe7484a3",
   "metadata": {},
   "outputs": [
    {
     "data": {
      "text/plain": [
       "2"
      ]
     },
     "execution_count": 91,
     "metadata": {},
     "output_type": "execute_result"
    }
   ],
   "source": [
    "temp.idxmin()"
   ]
  },
  {
   "cell_type": "code",
   "execution_count": null,
   "id": "f2fc80a0-dbd2-42c1-b509-c5f66000480f",
   "metadata": {},
   "outputs": [],
   "source": [
    "#Sort the Series in ascending and descending order."
   ]
  },
  {
   "cell_type": "code",
   "execution_count": 93,
   "id": "ea40ae8a-6da8-4901-b7af-75c67c66b5a9",
   "metadata": {},
   "outputs": [
    {
     "data": {
      "text/plain": [
       "2    20\n",
       "1    21\n",
       "7    22\n",
       "0    23\n",
       "8    24\n",
       "3    25\n",
       "9    26\n",
       "4    27\n",
       "6    28\n",
       "5    30\n",
       "dtype: int64"
      ]
     },
     "execution_count": 93,
     "metadata": {},
     "output_type": "execute_result"
    }
   ],
   "source": [
    "temp.sort_values()"
   ]
  },
  {
   "cell_type": "code",
   "execution_count": 95,
   "id": "98638e90-9841-4022-9d4e-bd82a6bc2c12",
   "metadata": {},
   "outputs": [
    {
     "data": {
      "text/plain": [
       "5    30\n",
       "6    28\n",
       "4    27\n",
       "9    26\n",
       "3    25\n",
       "8    24\n",
       "0    23\n",
       "7    22\n",
       "1    21\n",
       "2    20\n",
       "dtype: int64"
      ]
     },
     "execution_count": 95,
     "metadata": {},
     "output_type": "execute_result"
    }
   ],
   "source": [
    "temp.sort_values(ascending=False)"
   ]
  },
  {
   "cell_type": "code",
   "execution_count": null,
   "id": "2e78292f-7ac6-4864-ac07-baa759727db3",
   "metadata": {},
   "outputs": [],
   "source": [
    "#Create a new Series temperature_celsius that converts the temperature from\n",
    "#Fahrenheit to Celsius\n",
    "#(temperature - 32) * 5/9"
   ]
  },
  {
   "cell_type": "code",
   "execution_count": 99,
   "id": "fffdf6be-2f1a-4abb-b477-f27836de960e",
   "metadata": {},
   "outputs": [
    {
     "data": {
      "text/plain": [
       "0   -5.000000\n",
       "1   -6.111111\n",
       "2   -6.666667\n",
       "3   -3.888889\n",
       "4   -2.777778\n",
       "5   -1.111111\n",
       "6   -2.222222\n",
       "7   -5.555556\n",
       "8   -4.444444\n",
       "9   -3.333333\n",
       "dtype: float64"
      ]
     },
     "execution_count": 99,
     "metadata": {},
     "output_type": "execute_result"
    }
   ],
   "source": [
    "temp=pd.Series((temp-32)*5/9)\n",
    "temp"
   ]
  },
  {
   "cell_type": "code",
   "execution_count": null,
   "id": "7168aeab-7e20-4e17-89da-84ff62a19cb3",
   "metadata": {},
   "outputs": [],
   "source": []
  }
 ],
 "metadata": {
  "kernelspec": {
   "display_name": "Python 3 (ipykernel)",
   "language": "python",
   "name": "python3"
  },
  "language_info": {
   "codemirror_mode": {
    "name": "ipython",
    "version": 3
   },
   "file_extension": ".py",
   "mimetype": "text/x-python",
   "name": "python",
   "nbconvert_exporter": "python",
   "pygments_lexer": "ipython3",
   "version": "3.12.4"
  }
 },
 "nbformat": 4,
 "nbformat_minor": 5
}
